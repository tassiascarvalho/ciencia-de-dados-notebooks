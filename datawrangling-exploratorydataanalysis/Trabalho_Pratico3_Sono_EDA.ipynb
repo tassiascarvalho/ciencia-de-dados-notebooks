{
 "cells": [
  {
   "cell_type": "markdown",
   "id": "61b10682-bea0-4d78-bd84-0c752dcb7d58",
   "metadata": {},
   "source": [
    "<div style=\"text-align: center; border: 1px solid black;\">\n",
    "    <div style=\"display: inline-flex; justify-content: center; align-items: center; \">\n",
    "        <img src=\"https://www.di.ubi.pt/~rcampos/assets/img/ubi.jpg\" alt=\"First Image\" style=\"margin: 10px;\"/>\n",
    "        <img src=\"https://www.di.ubi.pt/~rcampos/assets/img/DI_FE.jpg\" alt=\"Second Image\" style=\"margin: 10px;\"/>\n",
    "    </div>\n",
    "</div>"
   ]
  },
  {
   "cell_type": "markdown",
   "id": "23463c78-6e31-4643-b227-6d9dd15cd441",
   "metadata": {},
   "source": [
    "<b><center><font size=\"4\">Mini Projeto III <br /> Data Wrangling and Exploratory Data Analysis </font></center></b>\n",
    "<center><font size=\"2\">Elaborado por: <br /> <b>Tassia da Silva de Carvalho</b><br />(M14307 - tassia.carvalho@ubi.pt)</font></center>\n",
    "<br />\n",
    "<div style=\"text-align: center;\">\n",
    "    <font size=\"2\">Trabalho apresentado no âmbito da disciplina de <b>Ciência de Dados</b>, sob orientação do <b>Prof. Dr Ricardo Campos</b></font><br>\n",
    "</div>"
   ]
  },
  {
   "cell_type": "markdown",
   "id": "0f56060c-56bf-4d16-afcb-d902d1fcf613",
   "metadata": {},
   "source": [
    "<div style=\"text-align: center;\">\n",
    "    <b>Objetivo</b>: Familiarização com o processo de limpeza de dados e análise exploratória de\n",
    "dados.\n",
    "</div>"
   ]
  },
  {
   "cell_type": "markdown",
   "id": "ca578d62-62e5-4a50-881f-b61f9d755917",
   "metadata": {},
   "source": [
    "<hr />"
   ]
  },
  {
   "cell_type": "markdown",
   "id": "4c89cfd4",
   "metadata": {},
   "source": [
    "# Introdução ao Dataset\n",
    "\n",
    "O presente trabalho utiliza o dataset <b>“Sleep Health and Lifestyle”</b>, disponível na plataforma Kaggle, que reúne dados de saúde, estilo de vida e sono de diferentes indivíduos. Este conjunto de dados foi construído com o intuito de apoiar investigações sobre os factores que influenciam a qualidade do sono e o bem-estar geral das pessoas.\n",
    "\n",
    "O dataset inclui diversas variáveis relacionadas com:\n",
    "    <ul>\n",
    "    <li>Características demográficas: género, idade e ocupação;</li>\n",
    "    <li>Estilo de vida: duração média do sono, nível de actividade física, passos diários;</li>\n",
    "    <li>Parâmetros de saúde: pressão arterial, frequência cardíaca, índice de massa corporal (IMC) e presença de distúrbios do sono;</li>\n",
    "    <li>Indicadores subjectivos: qualidade percebida do sono e nível de stress.</li>\n",
    "</ul>\n",
    "Com um total de aproximadamente 370 registos, o dataset permite explorar relações entre factores fisiológicos, comportamentais e ambientais, sendo particularmente adequado para análises exploratórias e formulação de hipóteses em contextos de saúde preventiva e qualidade de vida.\n",
    "\n",
    "**Dataset:** Sleep Health and Lifestyle\n",
    "**Fonte:** [Kaggle](https://www.kaggle.com/datasets/uom190346a/sleep-health-and-lifestyle-dataset)"
   ]
  },
  {
   "cell_type": "markdown",
   "id": "2f149ac6",
   "metadata": {},
   "source": [
    "## 1. Importação do ficheiro CSV"
   ]
  },
  {
   "cell_type": "markdown",
   "id": "39a787d4-ae19-4a25-8d44-28de927063ab",
   "metadata": {},
   "source": [
    "### Formas de obter o ficheiro CSV"
   ]
  },
  {
   "cell_type": "markdown",
   "id": "78cdc1e8-c366-4e9b-8ef5-d4fb9e9e44a2",
   "metadata": {},
   "source": [
    "✅ Opção 1: Usar GitHub "
   ]
  },
  {
   "cell_type": "code",
   "execution_count": null,
   "id": "21c77027-40a9-4465-9d97-04542f2652bb",
   "metadata": {},
   "outputs": [],
   "source": [
    "import pandas as pd\n",
    "\n",
    "# URL direta para o ficheiro CSV (modo raw)\n",
    "url_csv = \"https://raw.githubusercontent.com/tassiascarvalho/ciencia-de-dados-notebooks/main/datawrangling-exploratorydataanalysis/Sleep_health_and_lifestyle_dataset.csv\"\n",
    "\n",
    "# Leitura do CSV diretamente da internet\n",
    "df = pd.read_csv(url_csv)\n",
    "print(df.head())"
   ]
  },
  {
   "cell_type": "markdown",
   "id": "3d08be64-ee9f-4a94-bc15-08df63f51991",
   "metadata": {},
   "source": [
    "✅ Opção 2: Usar a API oficial do Kaggle para fazer o download"
   ]
  },
  {
   "cell_type": "code",
   "execution_count": null,
   "id": "2b5feb81-9195-464f-8270-374133424e4c",
   "metadata": {},
   "outputs": [],
   "source": [
    "pip install kagglehub"
   ]
  },
  {
   "cell_type": "markdown",
   "id": "543f5a71-e0de-4a12-85e5-30c09b1c975b",
   "metadata": {},
   "source": [
    "import kagglehub\n",
    "import pandas as pd\n",
    "import os\n",
    "\n",
    "# Download do dataset\n",
    "path = kagglehub.dataset_download(\"uom190346a/sleep-health-and-lifestyle-dataset\")\n",
    "print(\"Path to dataset files:\", path)\n",
    "\n",
    "# Caminho completo para o CSV dentro da pasta baixada\n",
    "csv_path = os.path.join(path, \"Sleep_health_and_lifestyle_dataset.csv\")\n",
    "\n",
    "# Leitura do CSV\n",
    "df = pd.read_csv(csv_path)\n",
    "print(df.head())\n"
   ]
  },
  {
   "cell_type": "markdown",
   "id": "e6e330d4",
   "metadata": {},
   "source": [
    "## 2. Primeiros 5 registos"
   ]
  },
  {
   "cell_type": "code",
   "execution_count": 22,
   "id": "9a1b51f3",
   "metadata": {},
   "outputs": [
    {
     "data": {
      "text/html": [
       "<div>\n",
       "<style scoped>\n",
       "    .dataframe tbody tr th:only-of-type {\n",
       "        vertical-align: middle;\n",
       "    }\n",
       "\n",
       "    .dataframe tbody tr th {\n",
       "        vertical-align: top;\n",
       "    }\n",
       "\n",
       "    .dataframe thead th {\n",
       "        text-align: right;\n",
       "    }\n",
       "</style>\n",
       "<table border=\"1\" class=\"dataframe\">\n",
       "  <thead>\n",
       "    <tr style=\"text-align: right;\">\n",
       "      <th></th>\n",
       "      <th>Person ID</th>\n",
       "      <th>Gender</th>\n",
       "      <th>Age</th>\n",
       "      <th>Occupation</th>\n",
       "      <th>Sleep Duration</th>\n",
       "      <th>Quality of Sleep</th>\n",
       "      <th>Physical Activity Level</th>\n",
       "      <th>Stress Level</th>\n",
       "      <th>BMI Category</th>\n",
       "      <th>Blood Pressure</th>\n",
       "      <th>Heart Rate</th>\n",
       "      <th>Daily Steps</th>\n",
       "      <th>Sleep Disorder</th>\n",
       "    </tr>\n",
       "  </thead>\n",
       "  <tbody>\n",
       "    <tr>\n",
       "      <th>0</th>\n",
       "      <td>1</td>\n",
       "      <td>Male</td>\n",
       "      <td>27</td>\n",
       "      <td>Software Engineer</td>\n",
       "      <td>6.1</td>\n",
       "      <td>6</td>\n",
       "      <td>42</td>\n",
       "      <td>6</td>\n",
       "      <td>Overweight</td>\n",
       "      <td>126/83</td>\n",
       "      <td>77</td>\n",
       "      <td>4200</td>\n",
       "      <td>NaN</td>\n",
       "    </tr>\n",
       "    <tr>\n",
       "      <th>1</th>\n",
       "      <td>2</td>\n",
       "      <td>Male</td>\n",
       "      <td>28</td>\n",
       "      <td>Doctor</td>\n",
       "      <td>6.2</td>\n",
       "      <td>6</td>\n",
       "      <td>60</td>\n",
       "      <td>8</td>\n",
       "      <td>Normal</td>\n",
       "      <td>125/80</td>\n",
       "      <td>75</td>\n",
       "      <td>10000</td>\n",
       "      <td>NaN</td>\n",
       "    </tr>\n",
       "    <tr>\n",
       "      <th>2</th>\n",
       "      <td>3</td>\n",
       "      <td>Male</td>\n",
       "      <td>28</td>\n",
       "      <td>Doctor</td>\n",
       "      <td>6.2</td>\n",
       "      <td>6</td>\n",
       "      <td>60</td>\n",
       "      <td>8</td>\n",
       "      <td>Normal</td>\n",
       "      <td>125/80</td>\n",
       "      <td>75</td>\n",
       "      <td>10000</td>\n",
       "      <td>NaN</td>\n",
       "    </tr>\n",
       "    <tr>\n",
       "      <th>3</th>\n",
       "      <td>4</td>\n",
       "      <td>Male</td>\n",
       "      <td>28</td>\n",
       "      <td>Sales Representative</td>\n",
       "      <td>5.9</td>\n",
       "      <td>4</td>\n",
       "      <td>30</td>\n",
       "      <td>8</td>\n",
       "      <td>Obese</td>\n",
       "      <td>140/90</td>\n",
       "      <td>85</td>\n",
       "      <td>3000</td>\n",
       "      <td>Sleep Apnea</td>\n",
       "    </tr>\n",
       "    <tr>\n",
       "      <th>4</th>\n",
       "      <td>5</td>\n",
       "      <td>Male</td>\n",
       "      <td>28</td>\n",
       "      <td>Sales Representative</td>\n",
       "      <td>5.9</td>\n",
       "      <td>4</td>\n",
       "      <td>30</td>\n",
       "      <td>8</td>\n",
       "      <td>Obese</td>\n",
       "      <td>140/90</td>\n",
       "      <td>85</td>\n",
       "      <td>3000</td>\n",
       "      <td>Sleep Apnea</td>\n",
       "    </tr>\n",
       "  </tbody>\n",
       "</table>\n",
       "</div>"
      ],
      "text/plain": [
       "   Person ID Gender  Age            Occupation  Sleep Duration  \\\n",
       "0          1   Male   27     Software Engineer             6.1   \n",
       "1          2   Male   28                Doctor             6.2   \n",
       "2          3   Male   28                Doctor             6.2   \n",
       "3          4   Male   28  Sales Representative             5.9   \n",
       "4          5   Male   28  Sales Representative             5.9   \n",
       "\n",
       "   Quality of Sleep  Physical Activity Level  Stress Level BMI Category  \\\n",
       "0                 6                       42             6   Overweight   \n",
       "1                 6                       60             8       Normal   \n",
       "2                 6                       60             8       Normal   \n",
       "3                 4                       30             8        Obese   \n",
       "4                 4                       30             8        Obese   \n",
       "\n",
       "  Blood Pressure  Heart Rate  Daily Steps Sleep Disorder  \n",
       "0         126/83          77         4200            NaN  \n",
       "1         125/80          75        10000            NaN  \n",
       "2         125/80          75        10000            NaN  \n",
       "3         140/90          85         3000    Sleep Apnea  \n",
       "4         140/90          85         3000    Sleep Apnea  "
      ]
     },
     "execution_count": 22,
     "metadata": {},
     "output_type": "execute_result"
    }
   ],
   "source": [
    "df.head()"
   ]
  },
  {
   "cell_type": "markdown",
   "id": "e226f900-f85b-47e2-8402-0f96f15b3090",
   "metadata": {},
   "source": [
    "### 📝 Análise preliminar da amostra\n",
    "\n",
    "Com base nos cinco primeiros registos do dataset Sleep Health and Lifestyle, é possível observar desde já uma boa estrutura dos dados, com colunas coerentes e informativas que relacionam características pessoais, estilo de vida e indicadores de saúde. Verificam-se padrões esperados, como a associação entre menor atividade física, obesidade, pressão arterial elevada e a presença de distúrbios do sono (ex.: Sleep Apnea).\n",
    "\n",
    "No entanto, também se identificam inconsistências e limitações que apontam para a necessidade de um tratamento cuidadoso dos dados. Por exemplo:\n",
    "\n",
    "<ul>\n",
    "<li>A coluna “Sleep Disorder” apresenta valores ausentes (NaN), o que requer técnicas de imputação ou análise específica;</li>  \n",
    "<li>Algumas variáveis como “Blood Pressure” estão em formato de texto composto, exigindo transformação em atributos separados (ex.: sistólica e diastólica);</li>\n",
    "<li>Pode ser útil criar variáveis derivadas como faixas etárias, índice de saúde cardiovascular ou classificação de stress para enriquecer a análise.</li>\n",
    "</ul>\n",
    "\n",
    "Assim, a exploração inicial não só evidencia a relevância analítica do conjunto de dados, como também destaca a necessidade de aplicar técnicas de data wrangling para preparar o dataset para análises mais robustas."
   ]
  },
  {
   "cell_type": "code",
   "execution_count": 37,
   "id": "f055bc8f-eb87-47cd-a3a6-0e2f712ddd33",
   "metadata": {},
   "outputs": [
    {
     "data": {
      "text/html": [
       "<div>\n",
       "<style scoped>\n",
       "    .dataframe tbody tr th:only-of-type {\n",
       "        vertical-align: middle;\n",
       "    }\n",
       "\n",
       "    .dataframe tbody tr th {\n",
       "        vertical-align: top;\n",
       "    }\n",
       "\n",
       "    .dataframe thead th {\n",
       "        text-align: right;\n",
       "    }\n",
       "</style>\n",
       "<table border=\"1\" class=\"dataframe\">\n",
       "  <thead>\n",
       "    <tr style=\"text-align: right;\">\n",
       "      <th></th>\n",
       "      <th>Coluna</th>\n",
       "      <th>Tipo de Dado</th>\n",
       "    </tr>\n",
       "  </thead>\n",
       "  <tbody>\n",
       "    <tr>\n",
       "      <th>0</th>\n",
       "      <td>Person ID</td>\n",
       "      <td>int64</td>\n",
       "    </tr>\n",
       "    <tr>\n",
       "      <th>1</th>\n",
       "      <td>Gender</td>\n",
       "      <td>object</td>\n",
       "    </tr>\n",
       "    <tr>\n",
       "      <th>2</th>\n",
       "      <td>Age</td>\n",
       "      <td>int64</td>\n",
       "    </tr>\n",
       "    <tr>\n",
       "      <th>3</th>\n",
       "      <td>Occupation</td>\n",
       "      <td>object</td>\n",
       "    </tr>\n",
       "    <tr>\n",
       "      <th>4</th>\n",
       "      <td>Sleep Duration</td>\n",
       "      <td>float64</td>\n",
       "    </tr>\n",
       "    <tr>\n",
       "      <th>5</th>\n",
       "      <td>Quality of Sleep</td>\n",
       "      <td>int64</td>\n",
       "    </tr>\n",
       "    <tr>\n",
       "      <th>6</th>\n",
       "      <td>Physical Activity Level</td>\n",
       "      <td>int64</td>\n",
       "    </tr>\n",
       "    <tr>\n",
       "      <th>7</th>\n",
       "      <td>Stress Level</td>\n",
       "      <td>int64</td>\n",
       "    </tr>\n",
       "    <tr>\n",
       "      <th>8</th>\n",
       "      <td>BMI Category</td>\n",
       "      <td>object</td>\n",
       "    </tr>\n",
       "    <tr>\n",
       "      <th>9</th>\n",
       "      <td>Blood Pressure</td>\n",
       "      <td>object</td>\n",
       "    </tr>\n",
       "    <tr>\n",
       "      <th>10</th>\n",
       "      <td>Heart Rate</td>\n",
       "      <td>int64</td>\n",
       "    </tr>\n",
       "    <tr>\n",
       "      <th>11</th>\n",
       "      <td>Daily Steps</td>\n",
       "      <td>int64</td>\n",
       "    </tr>\n",
       "    <tr>\n",
       "      <th>12</th>\n",
       "      <td>Sleep Disorder</td>\n",
       "      <td>object</td>\n",
       "    </tr>\n",
       "  </tbody>\n",
       "</table>\n",
       "</div>"
      ],
      "text/plain": [
       "                     Coluna Tipo de Dado\n",
       "0                 Person ID        int64\n",
       "1                    Gender       object\n",
       "2                       Age        int64\n",
       "3                Occupation       object\n",
       "4            Sleep Duration      float64\n",
       "5          Quality of Sleep        int64\n",
       "6   Physical Activity Level        int64\n",
       "7              Stress Level        int64\n",
       "8              BMI Category       object\n",
       "9            Blood Pressure       object\n",
       "10               Heart Rate        int64\n",
       "11              Daily Steps        int64\n",
       "12           Sleep Disorder       object"
      ]
     },
     "execution_count": 37,
     "metadata": {},
     "output_type": "execute_result"
    }
   ],
   "source": [
    "df.dtypes.reset_index().rename(columns={'index': 'Coluna', 0: 'Tipo de Dado'})"
   ]
  },
  {
   "cell_type": "markdown",
   "id": "a21946d7-12d9-45f4-adaa-361b1524c232",
   "metadata": {},
   "source": [
    "Uma observação relevante diz respeito à tipagem dos dados (dtypes) atribuída automaticamente pelo pandas. Embora funcional, o tipo int64 tenha sido aplicado a colunas como Person ID, Age ou Stress Level, este representa uma utilização desnecessariamente extensa de memória, tendo em conta os limites reais desses atributos. Em contextos de produção ou datasets de grande dimensão, seria mais adequado converter estas colunas para tipos mais leves, como int8, int16 ou category (quando aplicável), reduzindo assim o uso de memória e melhorando o desempenho computacional nas análises subsequentes."
   ]
  },
  {
   "cell_type": "markdown",
   "id": "fda36ee4-d8eb-4c91-91c6-2a3df9abf1f7",
   "metadata": {},
   "source": [
    "#### ⚠️ Nota sobre dados ausentes\n",
    "\n",
    "Antes de avançar com a análise de correlação (atividade 3), importa referir que algumas colunas do dataset, como Sleep Disorder, contêm valores ausentes. Embora a maioria das variáveis numéricas esteja completa, é essencial reconhecer que a presença de dados nulos em variáveis relevantes pode, em certos contextos, influenciar os resultados estatísticos.\n",
    "\n",
    "Neste momento, a análise será conduzida com os dados disponíveis, sem qualquer imputação ou limpeza. As correções e o tratamento adequado dos dados ausentes serão abordados especificamente nas atividades 5 e 6, onde se aplicam estratégias como a contagem de nulos e a imputação por mediana, com ou sem segmentação por grupo."
   ]
  },
  {
   "cell_type": "markdown",
   "id": "2f23ad76",
   "metadata": {},
   "source": [
    "## 3. Correlação de Pearson\n",
    "\n",
    "O atributo escolhido foi \"Quality of Sleep\" por se tratar de uma variável central no contexto do dataset, que tem como foco a saúde do sono e o estilo de vida. A qualidade do sono é um indicador subjectivo mas altamente relevante do bem-estar geral dos indivíduos, influenciando aspectos físicos, emocionais e cognitivos."
   ]
  },
  {
   "cell_type": "code",
   "execution_count": 26,
   "id": "b86b945b",
   "metadata": {},
   "outputs": [
    {
     "data": {
      "text/plain": [
       "Sleep Duration             0.883213\n",
       "Age                        0.473734\n",
       "Person ID                  0.431612\n",
       "Physical Activity Level    0.192896\n",
       "Daily Steps                0.016791\n",
       "Heart Rate                -0.659865\n",
       "Stress Level              -0.898752\n",
       "Name: Quality of Sleep, dtype: float64"
      ]
     },
     "execution_count": 26,
     "metadata": {},
     "output_type": "execute_result"
    }
   ],
   "source": [
    "import numpy as np\n",
    "\n",
    "# Matriz de correlação de Pearson (apenas atributos numéricos)\n",
    "correlacoes = df.select_dtypes(include=[np.number]).corr(method='pearson')\n",
    "\n",
    "#Atributo Quality of Sleep e ordenar os coeficientes\n",
    "atributo_base = 'Quality of Sleep'\n",
    "correlacoes[atributo_base].drop(atributo_base).sort_values(ascending=False)"
   ]
  },
  {
   "cell_type": "markdown",
   "id": "f2323127-7027-4765-86bf-04669d817fc1",
   "metadata": {},
   "source": [
    "Observa-se que a \"Quality of Sleep\" tem forte correlação positiva com a \"Sleep Duration\" e negativa com o \"Stress Level\", o que está de acordo com o conhecimento intuitivo sobre hábitos de sono."
   ]
  },
  {
   "cell_type": "markdown",
   "id": "261ce90e",
   "metadata": {},
   "source": [
    "## 4. Mediana condicionada\n",
    "#### A mediana da duração do sono entre pessoas com nível de stress elevado (≥7)\n",
    "\n",
    "Nesta etapa, foi calculada a mediana da duração do sono considerando apenas os indivíduos com nível de stress elevado (Stress Level ≥ 7). Este tipo de filtragem permite compreender de forma mais específica como factores emocionais podem estar relacionados com a quantidade de horas dormidas. A escolha desta restrição justifica-se pelo facto de o stress ser um dos elementos com maior correlação negativa com a duração e a qualidade do sono, como evidenciado nas análises anteriores. O resultado obtido revela a tendência central do sono entre indivíduos potencialmente mais afectados psicologicamente."
   ]
  },
  {
   "cell_type": "code",
   "execution_count": 30,
   "id": "6c743133",
   "metadata": {},
   "outputs": [
    {
     "data": {
      "text/plain": [
       "6.0"
      ]
     },
     "execution_count": 30,
     "metadata": {},
     "output_type": "execute_result"
    }
   ],
   "source": [
    "df[df['Stress Level'] >= 7]['Sleep Duration'].median()"
   ]
  },
  {
   "cell_type": "markdown",
   "id": "51e0d862",
   "metadata": {},
   "source": [
    "## 5. Contagem de valores nulos"
   ]
  },
  {
   "cell_type": "markdown",
   "id": "724760eb-5814-49a3-b70b-634e2516f21c",
   "metadata": {},
   "source": [
    "Nesta etapa, foi realizada a contagem de valores nulos em quatro colunas de interesse: Sleep Duration, Quality of Sleep, Stress Level e Sleep Disorder. "
   ]
  },
  {
   "cell_type": "code",
   "execution_count": 33,
   "id": "c8152592",
   "metadata": {},
   "outputs": [
    {
     "data": {
      "text/plain": [
       "Sleep Duration        0\n",
       "Quality of Sleep      0\n",
       "Stress Level          0\n",
       "Sleep Disorder      219\n",
       "dtype: int64"
      ]
     },
     "execution_count": 33,
     "metadata": {},
     "output_type": "execute_result"
    }
   ],
   "source": [
    "df[['Sleep Duration', 'Quality of Sleep', 'Stress Level', 'Sleep Disorder']].isnull().sum()"
   ]
  },
  {
   "cell_type": "markdown",
   "id": "404fb5e0-6dbb-4494-bb67-eeac2c824a60",
   "metadata": {},
   "source": [
    "Os resultados demonstram que as três primeiras colunas estão completas, enquanto a coluna Sleep Disorder apresenta <b>219 registos com valor nulo</b>.\n",
    "\n",
    "No entanto, é importante salientar que, neste caso, os valores ausentes em Sleep Disorder <b>não indicam erro ou omissão de dados</b>, mas sim <b>a ausência de diagnóstico reportado por parte dos indivíduos</b>. Na prática, um valor nulo nesta coluna pode ser interpretado como <b>\"Nenhum distúrbio do sono\"</b>.\n",
    "\n",
    "Este tipo de análise é essencial para evitar interpretações incorrectas e preparar estratégias adequadas de imputação ou recodificação durante o processo de data wrangling, especialmente nas fases seguintes do trabalho."
   ]
  },
  {
   "cell_type": "markdown",
   "id": "7ad290e9",
   "metadata": {},
   "source": [
    "## 6. Imputação por grupo"
   ]
  },
  {
   "cell_type": "markdown",
   "id": "882ad7a8-56b9-4706-a2ec-68cc5a6cebd4",
   "metadata": {},
   "source": [
    "Foi desenvolvida uma função de imputação que tem como objectivo substituir os valores nulos de uma coluna numérica com a mediana desse atributo, calculada dentro de cada grupo de uma variável categórica. Neste caso, optou-se por aplicar a função à coluna Sleep Duration, agrupando por Occupation, ou seja, caso existissem valores em falta, cada um seria preenchido com a mediana da duração de sono correspondente à ocupação do indivíduo.\n",
    "\n",
    "<b>O que a função imputar_mediana_por_grupo faz:<b/>\n",
    "<ol>\n",
    "<li>Recebe três parâmetros: o DataFrame, o nome da coluna alvo com valores nulos e o nome da coluna de agrupamento.</li>\n",
    "\n",
    "<li>Para cada grupo distinto na coluna de agrupamento (Occupation), calcula a mediana da coluna alvo (Sleep Duration) dentro desse grupo.</li>\n",
    "\n",
    "<li>Substitui os valores nulos da coluna alvo dentro daquele grupo específico com a mediana correspondente.</li>\n",
    "</ol>"
   ]
  },
  {
   "cell_type": "code",
   "execution_count": 38,
   "id": "384b8747",
   "metadata": {},
   "outputs": [],
   "source": [
    "def imputar_mediana_por_grupo(dataframe, coluna_alvo, coluna_grupo):\n",
    "    for grupo, dados in dataframe.groupby(coluna_grupo):\n",
    "        mediana = dados[coluna_alvo].median()\n",
    "        cond = (dataframe[coluna_grupo] == grupo) & (dataframe[coluna_alvo].isnull())\n",
    "        dataframe.loc[cond, coluna_alvo] = mediana\n",
    "    return dataframe\n",
    "\n",
    "df = imputar_mediana_por_grupo(df, 'Sleep Duration', 'Occupation')"
   ]
  },
  {
   "cell_type": "markdown",
   "id": "1cbb1a8c-def6-4e63-bb44-f750498b24db",
   "metadata": {},
   "source": [
    "\n",
    "Contudo, ao verificar os dados antes da imputação, constatou-se que a coluna <b>Sleep Duration não apresenta valores nulos</b>, e, por isso, nenhuma substituição efectiva foi realizada. Ainda assim, a função foi executada com sucesso e encontra-se disponível para ser reutilizada noutras colunas ou cenários onde a imputação seja necessária.\n",
    "\n",
    "Esta abordagem baseada em grupos é particularmente útil para preservar padrões internos dos dados e evitar que valores genéricos (como a mediana global) distorçam os resultados analíticos."
   ]
  },
  {
   "cell_type": "markdown",
   "id": "ee6d6f08-5d73-4ea3-9eb8-b7f76d7c448e",
   "metadata": {},
   "source": [
    "Como parte do processo de tratamento de dados, foi aplicada uma imputação na coluna Sleep Disorder, substituindo os valores nulos identificados anteriormente pela categoria \"Nenhum\". Esta decisão baseia-se no significado contextual dos dados, uma vez que a ausência de preenchimento nesta coluna indica, na prática, que o indivíduo não apresenta distúrbio do sono.\n",
    "\n",
    "Esta imputação tem como objectivo tornar os dados mais completos e consistentes, facilitando análises posteriores sem alterar o significado original das informações recolhidas."
   ]
  },
  {
   "cell_type": "code",
   "execution_count": 43,
   "id": "772d464b-8ebc-49c2-aec4-55b14e8a28e8",
   "metadata": {},
   "outputs": [],
   "source": [
    "df['Sleep Disorder'] = df['Sleep Disorder'].fillna('Nenhum')"
   ]
  },
  {
   "cell_type": "markdown",
   "id": "fb8efe83",
   "metadata": {},
   "source": [
    "## 7. Criação de novas colunas derivadas"
   ]
  },
  {
   "cell_type": "markdown",
   "id": "c9a36c8f-55c0-47de-b7ed-c1751eb9bf46",
   "metadata": {},
   "source": [
    "Para enriquecer o dataset e facilitar a análise exploratória, foram criadas 4 novas colunas a partir de variáveis já existentes. Estas transformações permitem extrair mais significado dos dados originais e facilitam a segmentação e visualização de padrões.\n",
    "\n",
    "As colunas adicionadas foram:\n",
    "<ul>\n",
    "<li><b>Faixa Etária</b>: derivada da variável Age, com categorização por intervalos de idade (ex: <20, 21-30, ..., 70+). Esta classificação é útil para análises comparativas entre diferentes grupos etários.</li>\n",
    "\n",
    "<li><b>Pressao Sistolica e Pressao Diastolica</b>: resultantes da separação da string presente na coluna Blood Pressure. A divisão destes valores permite análises cardiovasculares mais específicas e facilita o cálculo de indicadores médicos, se necessário.</li>\n",
    "\n",
    "<li><b>Stress Categoria</b>: criada a partir da variável Stress Level, agrupa os níveis de stress em três categorias interpretativas: Baixo, Moderado e Alto. Esta simplificação melhora a visualização e a interpretação em gráficos ou agrupamentos.</li>\n",
    "</ul>"
   ]
  },
  {
   "cell_type": "code",
   "execution_count": 49,
   "id": "2da049ba",
   "metadata": {},
   "outputs": [],
   "source": [
    "df['Age Group'] = pd.cut(df['Age'], bins=[0, 20, 30, 40, 50, 60, 70, 100],\n",
    "                            labels=['<20', '21-30', '31-40', '41-50', '51-60', '61-70', '70+'])\n",
    "\n",
    "# Criar duas colunas: pressao_sistolica e pressao_diastolica, separando os valores.\n",
    "df[['Systolic Pressure', 'Diastolic Pressure']] = df['Blood Pressure'].str.split('/', expand=True).astype(int)\n",
    "\n",
    "#Classificação simplificada de stress:\n",
    "df['Stress Category'] = pd.cut(df['Stress Level'],\n",
    "    bins=[0, 3, 6, 10],\n",
    "    labels=['Low', 'Moderate', 'High'])\n"
   ]
  },
  {
   "cell_type": "code",
   "execution_count": 50,
   "id": "ba2116b8-d0a1-489f-921d-73ad1f80f4e6",
   "metadata": {},
   "outputs": [
    {
     "data": {
      "text/html": [
       "<div>\n",
       "<style scoped>\n",
       "    .dataframe tbody tr th:only-of-type {\n",
       "        vertical-align: middle;\n",
       "    }\n",
       "\n",
       "    .dataframe tbody tr th {\n",
       "        vertical-align: top;\n",
       "    }\n",
       "\n",
       "    .dataframe thead th {\n",
       "        text-align: right;\n",
       "    }\n",
       "</style>\n",
       "<table border=\"1\" class=\"dataframe\">\n",
       "  <thead>\n",
       "    <tr style=\"text-align: right;\">\n",
       "      <th></th>\n",
       "      <th>Person ID</th>\n",
       "      <th>Gender</th>\n",
       "      <th>Age</th>\n",
       "      <th>Occupation</th>\n",
       "      <th>Sleep Duration</th>\n",
       "      <th>Quality of Sleep</th>\n",
       "      <th>Physical Activity Level</th>\n",
       "      <th>Stress Level</th>\n",
       "      <th>BMI Category</th>\n",
       "      <th>Blood Pressure</th>\n",
       "      <th>Heart Rate</th>\n",
       "      <th>Daily Steps</th>\n",
       "      <th>Sleep Disorder</th>\n",
       "      <th>Age Group</th>\n",
       "      <th>Systolic Pressure</th>\n",
       "      <th>Diastolic Pressure</th>\n",
       "      <th>Stress Category</th>\n",
       "    </tr>\n",
       "  </thead>\n",
       "  <tbody>\n",
       "    <tr>\n",
       "      <th>0</th>\n",
       "      <td>1</td>\n",
       "      <td>Male</td>\n",
       "      <td>27</td>\n",
       "      <td>Software Engineer</td>\n",
       "      <td>6.1</td>\n",
       "      <td>6</td>\n",
       "      <td>42</td>\n",
       "      <td>6</td>\n",
       "      <td>Overweight</td>\n",
       "      <td>126/83</td>\n",
       "      <td>77</td>\n",
       "      <td>4200</td>\n",
       "      <td>Nenhum</td>\n",
       "      <td>21-30</td>\n",
       "      <td>126</td>\n",
       "      <td>83</td>\n",
       "      <td>Moderate</td>\n",
       "    </tr>\n",
       "    <tr>\n",
       "      <th>1</th>\n",
       "      <td>2</td>\n",
       "      <td>Male</td>\n",
       "      <td>28</td>\n",
       "      <td>Doctor</td>\n",
       "      <td>6.2</td>\n",
       "      <td>6</td>\n",
       "      <td>60</td>\n",
       "      <td>8</td>\n",
       "      <td>Normal</td>\n",
       "      <td>125/80</td>\n",
       "      <td>75</td>\n",
       "      <td>10000</td>\n",
       "      <td>Nenhum</td>\n",
       "      <td>21-30</td>\n",
       "      <td>125</td>\n",
       "      <td>80</td>\n",
       "      <td>High</td>\n",
       "    </tr>\n",
       "    <tr>\n",
       "      <th>2</th>\n",
       "      <td>3</td>\n",
       "      <td>Male</td>\n",
       "      <td>28</td>\n",
       "      <td>Doctor</td>\n",
       "      <td>6.2</td>\n",
       "      <td>6</td>\n",
       "      <td>60</td>\n",
       "      <td>8</td>\n",
       "      <td>Normal</td>\n",
       "      <td>125/80</td>\n",
       "      <td>75</td>\n",
       "      <td>10000</td>\n",
       "      <td>Nenhum</td>\n",
       "      <td>21-30</td>\n",
       "      <td>125</td>\n",
       "      <td>80</td>\n",
       "      <td>High</td>\n",
       "    </tr>\n",
       "    <tr>\n",
       "      <th>3</th>\n",
       "      <td>4</td>\n",
       "      <td>Male</td>\n",
       "      <td>28</td>\n",
       "      <td>Sales Representative</td>\n",
       "      <td>5.9</td>\n",
       "      <td>4</td>\n",
       "      <td>30</td>\n",
       "      <td>8</td>\n",
       "      <td>Obese</td>\n",
       "      <td>140/90</td>\n",
       "      <td>85</td>\n",
       "      <td>3000</td>\n",
       "      <td>Sleep Apnea</td>\n",
       "      <td>21-30</td>\n",
       "      <td>140</td>\n",
       "      <td>90</td>\n",
       "      <td>High</td>\n",
       "    </tr>\n",
       "    <tr>\n",
       "      <th>4</th>\n",
       "      <td>5</td>\n",
       "      <td>Male</td>\n",
       "      <td>28</td>\n",
       "      <td>Sales Representative</td>\n",
       "      <td>5.9</td>\n",
       "      <td>4</td>\n",
       "      <td>30</td>\n",
       "      <td>8</td>\n",
       "      <td>Obese</td>\n",
       "      <td>140/90</td>\n",
       "      <td>85</td>\n",
       "      <td>3000</td>\n",
       "      <td>Sleep Apnea</td>\n",
       "      <td>21-30</td>\n",
       "      <td>140</td>\n",
       "      <td>90</td>\n",
       "      <td>High</td>\n",
       "    </tr>\n",
       "  </tbody>\n",
       "</table>\n",
       "</div>"
      ],
      "text/plain": [
       "   Person ID Gender  Age            Occupation  Sleep Duration  \\\n",
       "0          1   Male   27     Software Engineer             6.1   \n",
       "1          2   Male   28                Doctor             6.2   \n",
       "2          3   Male   28                Doctor             6.2   \n",
       "3          4   Male   28  Sales Representative             5.9   \n",
       "4          5   Male   28  Sales Representative             5.9   \n",
       "\n",
       "   Quality of Sleep  Physical Activity Level  Stress Level BMI Category  \\\n",
       "0                 6                       42             6   Overweight   \n",
       "1                 6                       60             8       Normal   \n",
       "2                 6                       60             8       Normal   \n",
       "3                 4                       30             8        Obese   \n",
       "4                 4                       30             8        Obese   \n",
       "\n",
       "  Blood Pressure  Heart Rate  Daily Steps Sleep Disorder Age Group  \\\n",
       "0         126/83          77         4200         Nenhum     21-30   \n",
       "1         125/80          75        10000         Nenhum     21-30   \n",
       "2         125/80          75        10000         Nenhum     21-30   \n",
       "3         140/90          85         3000    Sleep Apnea     21-30   \n",
       "4         140/90          85         3000    Sleep Apnea     21-30   \n",
       "\n",
       "   Systolic Pressure  Diastolic Pressure Stress Category  \n",
       "0                126                  83        Moderate  \n",
       "1                125                  80            High  \n",
       "2                125                  80            High  \n",
       "3                140                  90            High  \n",
       "4                140                  90            High  "
      ]
     },
     "execution_count": 50,
     "metadata": {},
     "output_type": "execute_result"
    }
   ],
   "source": [
    "df.head()"
   ]
  },
  {
   "cell_type": "markdown",
   "id": "552baaf8",
   "metadata": {},
   "source": [
    "## 8. Análise exploratória"
   ]
  },
  {
   "cell_type": "markdown",
   "id": "4380a77e-aa69-4e0e-9157-ab9c93c6060d",
   "metadata": {},
   "source": [
    "Abaixo são apresentadas diversas visualizações que permitem explorar e compreender melhor os dados do conjunto Sleep Health and Lifestyle. Esta análise visa identificar <b>padrões relevantes, relações entre variáveis e possíveis anomalias</b> que possam existir no comportamento dos indivíduos em relação ao sono, stress, actividade física e saúde geral.\n",
    "\n",
    "Serão abordadas variáveis <b>categóricas nominais e ordinais, variáveis numéricas, bem como relações bivariadas e multivariadas</b>. Os gráficos escolhidos proporcionam uma base sólida para interpretações iniciais, formulação de hipóteses e preparação dos dados para futuras etapas de modelação e inferência estatística."
   ]
  },
  {
   "cell_type": "code",
   "execution_count": 59,
   "id": "8fcf55c0",
   "metadata": {},
   "outputs": [
    {
     "data": {
      "image/png": "[encoded data removed]",
      "text/plain": [
       "<Figure size 1800x1000 with 7 Axes>"
      ]
     },
     "metadata": {},
     "output_type": "display_data"
    }
   ],
   "source": [
    "import pandas as pd\n",
    "import matplotlib.pyplot as plt\n",
    "import seaborn as sns\n",
    "\n",
    "# Criar figura com 6 gráficos (2 linhas × 3 colunas)\n",
    "fig, axes = plt.subplots(2, 3, figsize=(18, 10))\n",
    "axes = axes.flatten()\n",
    "\n",
    "# 1. Sleep Duration por Stress Category\n",
    "sns.boxplot(x='Stress Category', y='Sleep Duration', data=df, order=['Low', 'Moderate', 'High'], ax=axes[0])\n",
    "axes[0].set_title('Sleep Duration by Stress Category')\n",
    "\n",
    "# 2. Heatmap de Correlação\n",
    "correlation_matrix = df[['Age', 'Stress Level', 'Heart Rate', 'Sleep Duration',\n",
    "                         'Quality of Sleep', 'Physical Activity Level']].corr()\n",
    "sns.heatmap(correlation_matrix, annot=True, cmap='coolwarm', fmt=\".2f\", ax=axes[1])\n",
    "axes[1].set_title('Correlation Heatmap')\n",
    "\n",
    "# 3. Histograma da Duração do Sono\n",
    "sns.histplot(df['Sleep Duration'], bins=20, kde=True, ax=axes[2])\n",
    "axes[2].set_title('Distribution of Sleep Duration')\n",
    "\n",
    "# 4. Heart Rate por Sleep Disorder\n",
    "sns.boxplot(x='Sleep Disorder', y='Heart Rate', data=df, ax=axes[3])\n",
    "axes[3].set_title('Heart Rate by Sleep Disorder')\n",
    "axes[3].tick_params(axis='x', rotation=20)\n",
    "\n",
    "# 5. Multivariate Scatter Plot\n",
    "sns.scatterplot(\n",
    "    x='Physical Activity Level',\n",
    "    y='Sleep Duration',\n",
    "    hue='Stress Category',\n",
    "    size='Heart Rate',\n",
    "    sizes=(20, 200),\n",
    "    data=df,\n",
    "    alpha=0.7,\n",
    "    ax=axes[4]\n",
    ")\n",
    "axes[4].set_title('Multivariate: Sleep vs Activity, Stress and HR')\n",
    "\n",
    "# 6. Sleep Duration por Age Group (coluna derivada)\n",
    "sns.boxplot(x='Age Group', y='Sleep Duration', data=df, ax=axes[5])\n",
    "axes[5].set_title('Sleep Duration by Age Group')\n",
    "\n",
    "plt.tight_layout()\n",
    "plt.show()\n"
   ]
  },
  {
   "cell_type": "markdown",
   "id": "dc243491-dc99-42b0-8927-76b3210fc9bc",
   "metadata": {},
   "source": [
    "Os seis gráficos apresentados nesta secção foram organizados lado a lado utilizando subplots com o objectivo de otimizar o espaço visual e facilitar a comparação entre as diferentes análises. Esta disposição não pretende sugerir uma análise combinada, mas sim agrupar visualmente as principais descobertas da análise exploratória.\n",
    "\n",
    "<ol>\n",
    "<li><b>Sleep Duration por Stress Category</b><br />\n",
    "Observa-se uma clara tendência de que indivíduos com níveis mais elevados de stress dormem menos. O grupo com stress alto apresenta menor mediana de sono e maior concentração de valores baixos, indicando um possível impacto directo do stress na duração do sono.</li>\n",
    "\n",
    "<li><b>Mapa de Calor (Heatmap) de Correlação</b><br />\n",
    "Destacam-se correlações fortes e significativas:\n",
    "<ul>\n",
    "    <li>Negativa entre Stress Level e Quality of Sleep (-0.90) e Sleep Duration (-0.81);</li>\n",
    "    <li>Positiva entre Sleep Duration e Quality of Sleep (0.88).</li>\n",
    "</ul>\n",
    "Estes padrões confirmam relações esperadas no domínio da saúde mental e bem-estar.</li>\n",
    "\n",
    "<li><b>Histograma da Duração do Sono</b><br />\n",
    "A distribuição é assimétrica, com a maioria dos indivíduos concentrados entre 6 e 8 horas de sono. Há outliers em ambos os extremos, revelando casos de sono muito curto ou muito prolongado.</li>\n",
    "\n",
    "<li><b>Heart Rate por Sleep Disorder</b><br />\n",
    "Indivíduos com distúrbios como Sleep Apnea e Insomnia apresentam frequência cardíaca mais elevada em média. O boxplot evidencia outliers relevantes sobretudo em Insomnia, sugerindo impacto fisiológico associado aos distúrbios.\n",
    "\n",
    "<li><b>Multivariate: Sleep × Activity, Stress e Heart Rate</b><br />\n",
    "Este gráfico revela perfis claros:\n",
    "    <ul>\n",
    "        <li>Indivíduos mais activos tendem a dormir mais;</li>\n",
    "        <li>Os pontos maiores (frequência cardíaca alta) concentram-se entre os menos activos e mais stressados;</li>\n",
    "        <li>A categoria de stress influencia nitidamente o padrão do sono neste cenário multidimensional.</li>\n",
    "    </ul>\n",
    "        \n",
    "</li>\n",
    "\n",
    "<li><b>Sleep Duration por Age Group</b><br />\n",
    "Nas faixas etárias disponíveis, observa-se uma maior variabilidade na duração do sono entre os adultos jovens (21-40 anos), com presença de alguns outliers. A tendência de diminuição do sono com a idade, apesar de sugerida no gráfico, não pode ser confirmada com esta amostra, devido à ausência de dados nos grupos etários mais avançados.</li>\n",
    "</ol>\n",
    "\n",
    "Outras análises que poderiam ser feitas: \n",
    " - Stress Level Categories, agrupando pelos níveis de stress\n",
    " - Uma análise Bivariante de Sleep Duration vs Physical Activity Level\n",
    " - Análise Categorical × Categorical – Gender vs. Sleep Disorder, para indicar tendências de género na prevalência de distúrbios, ou diferentes comportamentos.\n",
    " - etc..."
   ]
  },
  {
   "cell_type": "markdown",
   "id": "7f5e8761",
   "metadata": {},
   "source": [
    "## 9. Teste de hipóteses"
   ]
  },
  {
   "cell_type": "markdown",
   "id": "c3f8120c-e621-44c3-9215-c875b20d7b19",
   "metadata": {},
   "source": [
    "Nesta secção foram formuladas e testadas quatro hipóteses baseadas em relações entre variáveis do dataset. O objectivo foi avaliar, através de testes estatísticos (t-test), se existem diferenças significativas entre grupos de indivíduos em aspectos relacionados com a qualidade e duração do sono, níveis de stress, actividade física e saúde cardiovascular.\n",
    "\n",
    "Para a realização dos testes de hipótese neste trabalho, foi utilizado o método ttest_ind() da biblioteca scipy.stats, apropriado para comparar a média de uma variável numérica entre dois grupos independentes. Este teste assume que os dados seguem uma distribuição aproximadamente normal e que os grupos são mutuamente exclusivos."
   ]
  },
  {
   "cell_type": "code",
   "execution_count": 68,
   "id": "2d75c02c",
   "metadata": {},
   "outputs": [
    {
     "name": "stdout",
     "output_type": "stream",
     "text": [
      "H1 p-valor: 2.0822572434338474e-13\n",
      "H2 p-valor: 5.749587721475395e-11\n",
      "H3 p-valor: 5.493859297806307e-24\n",
      "H4 p-valor: 0.01129531397857913\n"
     ]
    }
   ],
   "source": [
    "from scipy.stats import ttest_ind\n",
    "\n",
    "# H1 Pessoas com maior nível de atividade física têm melhor qualidade do sono.\n",
    "atividade_baixa = df[df['Physical Activity Level'] < df['Physical Activity Level'].median()]['Quality of Sleep']\n",
    "atividade_alta = df[df['Physical Activity Level'] >= df['Physical Activity Level'].median()]['Quality of Sleep']\n",
    "print('H1 p-valor:', ttest_ind(atividade_baixa, atividade_alta).pvalue)\n",
    "\n",
    "# H2 Pessoas com distúrbios do sono têm frequência cardíaca média mais alta.\n",
    "disturbio = df[df['Sleep Disorder'] != 'Nenhum']['Heart Rate']\n",
    "sem_disturbio = df[df['Sleep Disorder'] == 'Nenhum']['Heart Rate']\n",
    "print('H2 p-valor:', ttest_ind(disturbio, sem_disturbio).pvalue)\n",
    "\n",
    "# H3 Pessoas com mais stress dormem menos.\n",
    "stress_alto = df[df['Stress Level'] >= df['Stress Level'].median()]['Sleep Duration']\n",
    "stress_baixo = df[df['Stress Level'] < df['Stress Level'].median()]['Sleep Duration']\n",
    "print('H3 p-valor:', ttest_ind(stress_alto, stress_baixo).pvalue)\n",
    "\n",
    "# H4 Pessoas com pressão sistólica mais alta apresentam menor qualidade de sono.\n",
    "df['Systolic Pressure'] = pd.to_numeric(df['Systolic Pressure'], errors='coerce')\n",
    "pressao_alta = df[df['Systolic Pressure'] >= df['Systolic Pressure'].median()]['Quality of Sleep']\n",
    "pressao_baixa = df[df['Systolic Pressure'] < df['Systolic Pressure'].median()]['Quality of Sleep']\n",
    "print('H4 p-valor:', ttest_ind(pressao_alta, pressao_baixa).pvalue)\n"
   ]
  },
  {
   "cell_type": "markdown",
   "id": "27358a44-2d78-4a16-ac39-f419e4ac544f",
   "metadata": {},
   "source": [
    "<b>Análise dos Resultados</b>\n",
    "\n",
    "<b>H1</b> – Pessoas com maior nível de actividade física têm melhor qualidade do sono.\n",
    " - p-valor: 2.08e-13\n",
    " - Resultado estatisticamente significativo. Indica que há diferença real na qualidade do sono entre os grupos com actividade física baixa e alta. A prática de actividade física está associada a melhor qualidade de sono.\n",
    "\n",
    "<b>H2</b> – Pessoas com distúrbios do sono têm frequência cardíaca média mais alta.\n",
    " - p-valor: 5.74e-11\n",
    " - Resultado significativo. Indivíduos com Sleep Apnea ou Insomnia apresentam frequência cardíaca superior aos que não apresentam distúrbios, o que sugere impacto fisiológico dos distúrbios do sono.\n",
    "\n",
    "<b>H3</b> – Pessoas com mais stress dormem menos.\n",
    " - p-valor: 3.45e-24\n",
    " - Resultado altamente significativo. Verifica-se que níveis elevados de stress estão fortemente associados a menor duração do sono, confirmando um padrão já sugerido por análises anteriores.\n",
    "\n",
    "<b>H4</b> – Pessoas com pressão sistólica mais alta apresentam menor qualidade de sono.\n",
    " - p-valor: 0.0113\n",
    " - Resultado estatisticamente significativo. Pessoas com pressão sistólica mais elevada tendem a apresentar menor qualidade do sono, indicando uma possível ligação entre saúde cardiovascular e sono."
   ]
  },
  {
   "cell_type": "markdown",
   "id": "18e10488",
   "metadata": {},
   "source": [
    "## 10.1 – Insight com LLM"
   ]
  },
  {
   "cell_type": "markdown",
   "id": "ab2de0a0-9fae-4e48-9285-1ad8e171005e",
   "metadata": {},
   "source": [
    "Foi solicitado ao ChatGPT que interpretasse o gráfico <b>\"Sleep Duration by Age Group\"</b>, incluído na análise exploratória (gráfico 6). A seguir, apresenta-se a comparação entre a explicação gerada pela ferramenta e a análise crítica feita manualmente:"
   ]
  },
  {
   "cell_type": "code",
   "execution_count": 74,
   "id": "25dd6f71-73a7-46fc-8da5-503670dd8df9",
   "metadata": {},
   "outputs": [
    {
     "data": {
      "image/png": "[encoded data removed]",
      "text/plain": [
       "<Figure size 500x400 with 1 Axes>"
      ]
     },
     "metadata": {},
     "output_type": "display_data"
    }
   ],
   "source": [
    "import pandas as pd\n",
    "import matplotlib.pyplot as plt\n",
    "import seaborn as sns\n",
    "\n",
    "plt.figure(figsize=(5, 4))\n",
    "sns.boxplot(x='Age Group', y='Sleep Duration', data=df)\n",
    "plt.title('Sleep Duration by Age Group')\n",
    "plt.xlabel('Age Group')\n",
    "plt.ylabel('Sleep Duration (hours)')\n",
    "plt.tight_layout()\n",
    "plt.show()"
   ]
  },
  {
   "cell_type": "markdown",
   "id": "28cf9751-80bc-4112-8725-0e5f9723312a",
   "metadata": {},
   "source": [
    "🧑‍🎓 <b>Minha explicação:</b>\n",
    "\n",
    "Nas faixas etárias disponíveis, observa-se uma maior variabilidade na duração do sono entre os adultos jovens (21-40 anos), com presença de alguns outliers. A tendência de diminuição do sono com a idade, apesar de sugerida no gráfico, não pode ser confirmada com esta amostra, devido à ausência de dados nos grupos etários mais avançados.\n",
    "\n",
    "🤖 <b>Explicação feita pelo LLM (ChatGPT):</b>\n",
    "\n",
    "O gráfico \"Sleep Duration by Age Group\" mostra a distribuição da duração do sono para diferentes faixas etárias. Observa-se que, em geral, a maioria dos grupos apresenta uma mediana de sono entre 6 e 7 horas. As faixas etárias mais jovens (<20, 21-30) tendem a apresentar valores ligeiramente superiores, com maior dispersão. Já as faixas mais avançadas (61-70, 70+) aparentam ter valores mais baixos e menor variabilidade. Isso pode indicar que a duração do sono diminui com o avanço da idade, o que está de acordo com estudos fisiológicos sobre o envelhecimento.\n",
    "\n",
    "📌 <b>Conclusão:</b>\n",
    "A explicação do LLM seguiu um raciocínio coerente com a literatura, mas <b>não identificou uma limitação crítica do dataset: a inexistência de dados nas faixas mais avançadas</b>. A análise humana complementou esta leitura com uma verificação rigorosa do conteúdo do ficheiro, evidenciando a importância de combinar inteligência artificial com pensamento crítico e validação empírica."
   ]
  },
  {
   "cell_type": "markdown",
   "id": "35528bc5",
   "metadata": {},
   "source": [
    "## 10.2 – Geração de código a partir de linguagem natural com LLM"
   ]
  },
  {
   "cell_type": "markdown",
   "id": "292099ae-f77f-410a-853e-9ad588949bfb",
   "metadata": {},
   "source": [
    "O LLM seleciona foi o ChatGPT.\n",
    "\n",
    "🧑‍🎓 <b> Minha descrição da tarefa:</b>\n",
    "\n",
    "Quero criar uma nova coluna chamada risco_cardiaco que classifique os indivíduos em três categorias: Baixo, Moderado e Alto.\n",
    "\n",
    "🤖 <b>Resposta inicial gerada pelo LLM</b>: Para criar essa nova coluna, poderia indicar com base em quais variáveis devemos definir o risco? Por exemplo: deseja considerar Heart Rate, Blood Pressure, ou alguma combinação?\n",
    "E quais são os critérios ou intervalos para cada categoria (Baixo, Moderado, Alto)? Com essas informações, consigo gerar um código mais adequado.\n",
    "\n",
    "🧑‍🎓 <b> Alteração na descrição da tarefa:</b>\n",
    "Quero criar uma nova coluna chamada risco_cardiaco que classifique os indivíduos em três categorias:\n",
    "- \"Baixo\" risco, se a frequência cardíaca for ≤ 70 e a pressão sistólica ≤ 120;\n",
    "- \"Moderado\", se a frequência cardíaca estiver entre 71 e 80 ou a pressão sistólica entre 121 e 139;\n",
    "- \"Alto\" risco, se a frequência cardíaca > 80 ou a pressão sistólica ≥ 140.\n",
    "\n",
    "\n",
    "🤖 <b>Resposta gerada pelo LLM<b/>:"
   ]
  },
  {
   "cell_type": "code",
   "execution_count": 75,
   "id": "c45351f6",
   "metadata": {},
   "outputs": [],
   "source": [
    "def classificar_risco(frequencia, sistolica):\n",
    "    if frequencia <= 70 and sistolica <= 120:\n",
    "        return \"Baixo\"\n",
    "    elif 71 <= frequencia <= 80 or 121 <= sistolica <= 139:\n",
    "        return \"Moderado\"\n",
    "    else:\n",
    "        return \"Alto\"\n",
    "\n",
    "df['Systolic Pressure'] = pd.to_numeric(df['Systolic Pressure'], errors='coerce')\n",
    "df['Risco_Cardiaco'] = df.apply(lambda row: classificar_risco(row['Heart Rate'], row['Systolic Pressure']), axis=1)"
   ]
  },
  {
   "cell_type": "markdown",
   "id": "50b1c9c0-aa1d-4921-ba84-5044ba2986fc",
   "metadata": {},
   "source": [
    "📌 Conclusão: A simulação demonstrou de forma clara a importância de fornecer instruções precisas e bem definidas quando se utiliza um LLM para gerar código. Na primeira tentativa, com uma descrição vaga, o modelo solicitou esclarecimentos. Após o fornecimento de regras claras, o LLM foi capaz de gerar um código correto, funcional e semanticamente apropriado, traduzindo uma lógica condicional relativamente complexa em Python de forma eficiente.\n",
    "\n",
    "Este exemplo evidencia como os LLMs podem ser poderosos aliados na construção de análises, desde que orientados por descrições completas e objectivas por parte do utilizador. O sucesso da resposta depende, portanto, tanto da capacidade do modelo quanto da clareza e rigor da tarefa formulada.\n",
    "\n",
    "🧑‍🎓Aproveitei e questionei o ChatGPT sobre o uso do apply: Durante as aulas o professor comentou sobre a ineficiencia do apply, porque você usou ele para o input?\n",
    "\n",
    "🤖 <b>Resposta gerada pelo LLM: </b>\n",
    "\n",
    "Pergunta excelente, Tassia — e te mostra muito consciente do que estás a aprender! 👏\n",
    "Por que usei apply() inicialmente?\n",
    "Porque na tua tarefa, descreveste a lógica com múltiplas condições combinadas entre duas colunas, com regras do tipo:\n",
    "\n",
    " - “Se Heart Rate ≤ 70 e Systolic Pressure ≤ 120, então 'Baixo'”, etc.\n",
    "\n",
    "Nessas situações, o apply():\n",
    "\n",
    "- É mais direto de implementar rapidamente;\n",
    "- Permite usar uma função Python com lógica complexa sem precisar converter em expressões vetoriais longas;\n",
    "- Funciona bem para explicações didáticas, onde o foco é a clareza da lógica, não tanto o desempenho.\n",
    "\n",
    "⚠️ Mas… o apply() tem desvantagens:\n",
    "- Muito mais lento que operações vetoriais (np.where, np.select);\n",
    "- Usa um loop implícito linha a linha (axis=1), que é justamente o que o pandas tenta evitar;\n",
    "- Em datasets grandes, o desempenho cai consideravelmente."
   ]
  },
  {
   "cell_type": "markdown",
   "id": "629b92b6",
   "metadata": {},
   "source": [
    "## 10.3 – Rotulagem com LLM via API"
   ]
  },
  {
   "cell_type": "markdown",
   "id": "ba5a3176-eba2-45fc-8d53-193d3894961b",
   "metadata": {},
   "source": [
    "💡 <b>Proposta</b>: Criar uma nova coluna denominada <b>\"Risco Profissional\"</b>, com base na ocupação (<i>Occupation</i>) de cada indivíduo, na qual um modelo de linguagem natural (LLM) analisa o risco associado à profissão, considerando o impacto na saúde do sono, podendo também ser estendido a outras dimensões como saúde cardiovascular, mental, ou stress laboral.\n",
    "\n",
    "Para operacionalizar esta proposta, foi utilizada a <b>plataforma OpenRouter</b>, que fornece acesso unificado a uma <b>variedade de modelos</b> de linguagem de diferentes fornecedores, através de uma única API REST. Esta abordagem permite comparar e integrar modelos alternativos de forma flexível e transparente.\n",
    "\n",
    "O modelo escolhido foi o <b>deepseek/deepseek-prover-v2:free</b>, por estar <b>disponível gratuitamente</b> e apresentar boa capacidade de raciocínio lógico e contextual. A chamada à API consistiu na definição de um prompt que solicitava a classificação do risco à saúde do sono com base na descrição da profissão. O modelo foi instruído a responder com apenas uma palavra: Baixo, Moderado ou Alto, tendo por base factores como stress ocupacional, exigência física, carga mental e rotina.\n",
    "\n",
    "O processo foi automatizado utilizando a biblioteca requests para enviar as ocupações únicas encontradas no dataset e receber de volta a classificação atribuída pelo modelo. A resposta de cada ocupação foi registada num dicionário e mapeada posteriormente na coluna Risco Profissional."
   ]
  },
  {
   "cell_type": "code",
   "execution_count": 91,
   "id": "8cfc09de",
   "metadata": {},
   "outputs": [
    {
     "name": "stdout",
     "output_type": "stream",
     "text": [
      "🔍 A classificar riscos profissionais...\n",
      "\n",
      "1/11 - Software Engineer\n",
      "2/11 - Doctor\n",
      "3/11 - Sales Representative\n",
      "4/11 - Teacher\n",
      "5/11 - Nurse\n",
      "6/11 - Engineer\n",
      "7/11 - Accountant\n",
      "8/11 - Scientist\n",
      "9/11 - Lawyer\n",
      "10/11 - Salesperson\n",
      "11/11 - Manager\n",
      "\n",
      "✅ Classificação concluída!\n",
      "\n",
      "📊 Distribuição dos riscos:\n",
      "Risco Profissional\n",
      "Moderado        193\n",
      "Alto.            73\n",
      "Alto             71\n",
      "**Moderado**     37\n",
      "Name: count, dtype: int64\n"
     ]
    }
   ],
   "source": [
    "import requests\n",
    "import pandas as pd\n",
    "import time\n",
    "\n",
    "API_KEY = \"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\"\n",
    "MODEL = \"deepseek/deepseek-prover-v2:free\"\n",
    "\n",
    "def classificar_ocupacao(ocupacao):\n",
    "    prompt = (\n",
    "        f\"Classifique o risco à saúde do sono da seguinte profissão: '{ocupacao}'. \"\n",
    "        f\"Escolha entre: Baixo, Moderado ou Alto. \"\n",
    "        f\"Considere fatores como stress, rotina, carga mental e exigência física. \"\n",
    "        f\"Responda com apenas uma palavra: Baixo, Moderado ou Alto.\"\n",
    "    )\n",
    "\n",
    "    headers = {\n",
    "        \"Authorization\": f\"Bearer {API_KEY}\",\n",
    "        \"Content-Type\": \"application/json\"\n",
    "    }\n",
    "\n",
    "    data = {\n",
    "        \"model\": MODEL,\n",
    "        \"messages\": [\n",
    "            {\"role\": \"user\", \"content\": prompt}\n",
    "        ]\n",
    "    }\n",
    "\n",
    "    response = requests.post(\"https://openrouter.ai/api/v1/chat/completions\", headers=headers, json=data)\n",
    "\n",
    "    if response.status_code == 200:\n",
    "        return response.json()['choices'][0]['message']['content'].strip()\n",
    "    else:\n",
    "        return f\"Erro {response.status_code}\"\n",
    "        \n",
    "ocupacoes_unicas = df['Occupation'].dropna().unique()\n",
    "mapa_risco = {}\n",
    "\n",
    "print(\"🔍 A classificar riscos profissionais...\\n\")\n",
    "\n",
    "for i, ocupacao in enumerate(ocupacoes_unicas, 1):\n",
    "    print(f\"{i}/{len(ocupacoes_unicas)} - {ocupacao}\")\n",
    "    mapa_risco[ocupacao] = classificar_ocupacao(ocupacao)\n",
    "    time.sleep(1.5)  # respeita a API\n",
    "\n",
    "df['Risco Profissional'] = df['Occupation'].map(mapa_risco)\n",
    "\n",
    "print(\"\\n✅ Classificação concluída!\")\n",
    "print(\"\\n📊 Distribuição dos riscos:\")\n",
    "print(df['Risco Profissional'].value_counts())\n"
   ]
  },
  {
   "cell_type": "code",
   "execution_count": 92,
   "id": "0bc92801-69a8-4670-a380-9d663ed18346",
   "metadata": {},
   "outputs": [
    {
     "data": {
      "text/html": [
       "<div>\n",
       "<style scoped>\n",
       "    .dataframe tbody tr th:only-of-type {\n",
       "        vertical-align: middle;\n",
       "    }\n",
       "\n",
       "    .dataframe tbody tr th {\n",
       "        vertical-align: top;\n",
       "    }\n",
       "\n",
       "    .dataframe thead th {\n",
       "        text-align: right;\n",
       "    }\n",
       "</style>\n",
       "<table border=\"1\" class=\"dataframe\">\n",
       "  <thead>\n",
       "    <tr style=\"text-align: right;\">\n",
       "      <th></th>\n",
       "      <th>Person ID</th>\n",
       "      <th>Gender</th>\n",
       "      <th>Age</th>\n",
       "      <th>Occupation</th>\n",
       "      <th>Sleep Duration</th>\n",
       "      <th>Quality of Sleep</th>\n",
       "      <th>Physical Activity Level</th>\n",
       "      <th>Stress Level</th>\n",
       "      <th>BMI Category</th>\n",
       "      <th>Blood Pressure</th>\n",
       "      <th>Heart Rate</th>\n",
       "      <th>Daily Steps</th>\n",
       "      <th>Sleep Disorder</th>\n",
       "      <th>Age Group</th>\n",
       "      <th>Systolic Pressure</th>\n",
       "      <th>Diastolic Pressure</th>\n",
       "      <th>Stress Category</th>\n",
       "      <th>Risco_Cardiaco</th>\n",
       "      <th>Risco Profissional</th>\n",
       "    </tr>\n",
       "  </thead>\n",
       "  <tbody>\n",
       "    <tr>\n",
       "      <th>0</th>\n",
       "      <td>1</td>\n",
       "      <td>Male</td>\n",
       "      <td>27</td>\n",
       "      <td>Software Engineer</td>\n",
       "      <td>6.1</td>\n",
       "      <td>6</td>\n",
       "      <td>42</td>\n",
       "      <td>6</td>\n",
       "      <td>Overweight</td>\n",
       "      <td>126/83</td>\n",
       "      <td>77</td>\n",
       "      <td>4200</td>\n",
       "      <td>Nenhum</td>\n",
       "      <td>21-30</td>\n",
       "      <td>126</td>\n",
       "      <td>83</td>\n",
       "      <td>Moderate</td>\n",
       "      <td>Moderado</td>\n",
       "      <td>Moderado</td>\n",
       "    </tr>\n",
       "    <tr>\n",
       "      <th>1</th>\n",
       "      <td>2</td>\n",
       "      <td>Male</td>\n",
       "      <td>28</td>\n",
       "      <td>Doctor</td>\n",
       "      <td>6.2</td>\n",
       "      <td>6</td>\n",
       "      <td>60</td>\n",
       "      <td>8</td>\n",
       "      <td>Normal</td>\n",
       "      <td>125/80</td>\n",
       "      <td>75</td>\n",
       "      <td>10000</td>\n",
       "      <td>Nenhum</td>\n",
       "      <td>21-30</td>\n",
       "      <td>125</td>\n",
       "      <td>80</td>\n",
       "      <td>High</td>\n",
       "      <td>Moderado</td>\n",
       "      <td>Alto</td>\n",
       "    </tr>\n",
       "    <tr>\n",
       "      <th>2</th>\n",
       "      <td>3</td>\n",
       "      <td>Male</td>\n",
       "      <td>28</td>\n",
       "      <td>Doctor</td>\n",
       "      <td>6.2</td>\n",
       "      <td>6</td>\n",
       "      <td>60</td>\n",
       "      <td>8</td>\n",
       "      <td>Normal</td>\n",
       "      <td>125/80</td>\n",
       "      <td>75</td>\n",
       "      <td>10000</td>\n",
       "      <td>Nenhum</td>\n",
       "      <td>21-30</td>\n",
       "      <td>125</td>\n",
       "      <td>80</td>\n",
       "      <td>High</td>\n",
       "      <td>Moderado</td>\n",
       "      <td>Alto</td>\n",
       "    </tr>\n",
       "    <tr>\n",
       "      <th>3</th>\n",
       "      <td>4</td>\n",
       "      <td>Male</td>\n",
       "      <td>28</td>\n",
       "      <td>Sales Representative</td>\n",
       "      <td>5.9</td>\n",
       "      <td>4</td>\n",
       "      <td>30</td>\n",
       "      <td>8</td>\n",
       "      <td>Obese</td>\n",
       "      <td>140/90</td>\n",
       "      <td>85</td>\n",
       "      <td>3000</td>\n",
       "      <td>Sleep Apnea</td>\n",
       "      <td>21-30</td>\n",
       "      <td>140</td>\n",
       "      <td>90</td>\n",
       "      <td>High</td>\n",
       "      <td>Alto</td>\n",
       "      <td>Moderado</td>\n",
       "    </tr>\n",
       "    <tr>\n",
       "      <th>4</th>\n",
       "      <td>5</td>\n",
       "      <td>Male</td>\n",
       "      <td>28</td>\n",
       "      <td>Sales Representative</td>\n",
       "      <td>5.9</td>\n",
       "      <td>4</td>\n",
       "      <td>30</td>\n",
       "      <td>8</td>\n",
       "      <td>Obese</td>\n",
       "      <td>140/90</td>\n",
       "      <td>85</td>\n",
       "      <td>3000</td>\n",
       "      <td>Sleep Apnea</td>\n",
       "      <td>21-30</td>\n",
       "      <td>140</td>\n",
       "      <td>90</td>\n",
       "      <td>High</td>\n",
       "      <td>Alto</td>\n",
       "      <td>Moderado</td>\n",
       "    </tr>\n",
       "  </tbody>\n",
       "</table>\n",
       "</div>"
      ],
      "text/plain": [
       "   Person ID Gender  Age            Occupation  Sleep Duration  \\\n",
       "0          1   Male   27     Software Engineer             6.1   \n",
       "1          2   Male   28                Doctor             6.2   \n",
       "2          3   Male   28                Doctor             6.2   \n",
       "3          4   Male   28  Sales Representative             5.9   \n",
       "4          5   Male   28  Sales Representative             5.9   \n",
       "\n",
       "   Quality of Sleep  Physical Activity Level  Stress Level BMI Category  \\\n",
       "0                 6                       42             6   Overweight   \n",
       "1                 6                       60             8       Normal   \n",
       "2                 6                       60             8       Normal   \n",
       "3                 4                       30             8        Obese   \n",
       "4                 4                       30             8        Obese   \n",
       "\n",
       "  Blood Pressure  Heart Rate  Daily Steps Sleep Disorder Age Group  \\\n",
       "0         126/83          77         4200         Nenhum     21-30   \n",
       "1         125/80          75        10000         Nenhum     21-30   \n",
       "2         125/80          75        10000         Nenhum     21-30   \n",
       "3         140/90          85         3000    Sleep Apnea     21-30   \n",
       "4         140/90          85         3000    Sleep Apnea     21-30   \n",
       "\n",
       "   Systolic Pressure  Diastolic Pressure Stress Category Risco_Cardiaco  \\\n",
       "0                126                  83        Moderate       Moderado   \n",
       "1                125                  80            High       Moderado   \n",
       "2                125                  80            High       Moderado   \n",
       "3                140                  90            High           Alto   \n",
       "4                140                  90            High           Alto   \n",
       "\n",
       "  Risco Profissional  \n",
       "0           Moderado  \n",
       "1               Alto  \n",
       "2               Alto  \n",
       "3           Moderado  \n",
       "4           Moderado  "
      ]
     },
     "execution_count": 92,
     "metadata": {},
     "output_type": "execute_result"
    }
   ],
   "source": [
    "df.head()"
   ]
  },
  {
   "cell_type": "markdown",
   "id": "babb76f6",
   "metadata": {},
   "source": [
    "## 11 –  Outras Operações Relevantes"
   ]
  },
  {
   "cell_type": "markdown",
   "id": "6ed44759-e099-4889-b599-b97ae3921a01",
   "metadata": {},
   "source": [
    "Como extensão da análise exploratória e com o objectivo de identificar padrões ocultos no comportamento do sono, foi aplicada uma técnica de aprendizagem não supervisionada — a clusterização. Através do algoritmo KMeans, foram agrupados os indivíduos com base em variáveis como duração e qualidade do sono, níveis de stress, actividade física e frequência cardíaca.\n",
    "Esta abordagem permite detectar perfis latentes de sono na população estudada, mesmo sem rótulos prévios, e pode ser útil para segmentação comportamental, recomendações personalizadas ou estudos clínicos preliminares. A visualização dos clusters em duas dimensões (via PCA) permite compreender a distribuição geral dos grupos e reforçar a importância da análise multivariada em saúde e bem-estar."
   ]
  },
  {
   "cell_type": "markdown",
   "id": "f63af40f-c7a0-41e8-9254-2daf5d012110",
   "metadata": {},
   "source": [
    "### Clusterização com KMeans (Perfis de Sono)\n",
    "\n",
    "Com o objectivo de explorar possíveis padrões ocultos nos dados, aplicou-se o algoritmo de clusterização KMeans. Foram utilizados cinco atributos relacionados ao sono e saúde. O algoritmo identificou três grupos (perfis de sono) com características distintas, que serão analisados a seguir."
   ]
  },
  {
   "cell_type": "code",
   "execution_count": null,
   "id": "5e10045d-efa2-4068-bc60-0033796863e5",
   "metadata": {},
   "outputs": [],
   "source": [
    "from sklearn.cluster import KMeans\n",
    "from sklearn.preprocessing import StandardScaler\n",
    "\n",
    "# Seleção de variáveis relevantes\n",
    "variaveis_cluster = df[['Sleep Duration', 'Stress Level', 'Quality of Sleep', 'Physical Activity Level', 'Heart Rate']]\n",
    "\n",
    "# Normalização\n",
    "scaler = StandardScaler()\n",
    "dados_norm = scaler.fit_transform(variaveis_cluster)\n",
    "\n",
    "# KMeans com 3 clusters\n",
    "kmeans = KMeans(n_clusters=3, random_state=42)\n",
    "df['perfil_sono'] = kmeans.fit_predict(dados_norm)\n"
   ]
  },
  {
   "cell_type": "markdown",
   "id": "a21ddaed-310b-4988-8b85-d6918d4cf777",
   "metadata": {},
   "source": [
    "### Visualização dos Clusters com PCA (2D)\n",
    "\n",
    "Para facilitar a visualização dos perfis identificados, aplicou-se o PCA (Análise de Componentes Principais), reduzindo as dimensões para 2 componentes principais. O gráfico resultante mostra uma separação coerente entre os perfis de sono, reforçando a validade da segmentação."
   ]
  },
  {
   "cell_type": "code",
   "execution_count": 99,
   "id": "5a398c69",
   "metadata": {},
   "outputs": [
    {
     "data": {
      "image/png": "[encoded data removed]",
      "text/plain": [
       "<Figure size 600x400 with 1 Axes>"
      ]
     },
     "metadata": {},
     "output_type": "display_data"
    }
   ],
   "source": [
    "from sklearn.decomposition import PCA\n",
    "import matplotlib.pyplot as plt\n",
    "\n",
    "# PCA para reduzir a 2 componentes principais\n",
    "pca = PCA(n_components=2)\n",
    "pca_resultado = pca.fit_transform(dados_norm)\n",
    "\n",
    "df_pca = pd.DataFrame(pca_resultado, columns=['PC1', 'PC2'])\n",
    "df_pca['perfil_sono'] = df['perfil_sono']\n",
    "\n",
    "# Gráfico\n",
    "plt.figure(figsize=(6, 4))\n",
    "for cluster in sorted(df_pca['perfil_sono'].unique()):\n",
    "    grupo = df_pca[df_pca['perfil_sono'] == cluster]\n",
    "    plt.scatter(grupo['PC1'], grupo['PC2'], label=f\"Perfil {cluster}\", alpha=0.7)\n",
    "\n",
    "plt.title(\"Visualização dos Clusters de Perfis de Sono (PCA)\")\n",
    "plt.xlabel(\"Componente Principal 1\")\n",
    "plt.ylabel(\"Componente Principal 2\")\n",
    "plt.legend()\n",
    "plt.grid(True)\n",
    "plt.tight_layout()\n",
    "plt.show()"
   ]
  },
  {
   "cell_type": "markdown",
   "id": "ba9b7f03-7074-4338-80f9-4fb6362aaef5",
   "metadata": {},
   "source": [
    "### Descrição dos Perfis de Sono (interpretação)\n",
    "\n",
    "Com base na média das variáveis por grupo, é possível interpretar os três perfis de sono:\n",
    "\n",
    "- Perfil 0: qualidade e duração de sono baixas, alto stress → perfil de maior risco.\n",
    "- Perfil 1: valores médios em todas as dimensões → perfil equilibrado.\n",
    "- Perfil 2: maior qualidade e duração de sono, menor stress → perfil saudável."
   ]
  },
  {
   "cell_type": "code",
   "execution_count": 100,
   "id": "9cbf6d9b-7a53-4c2e-84e1-a790efc86e56",
   "metadata": {},
   "outputs": [
    {
     "data": {
      "text/html": [
       "<div>\n",
       "<style scoped>\n",
       "    .dataframe tbody tr th:only-of-type {\n",
       "        vertical-align: middle;\n",
       "    }\n",
       "\n",
       "    .dataframe tbody tr th {\n",
       "        vertical-align: top;\n",
       "    }\n",
       "\n",
       "    .dataframe thead th {\n",
       "        text-align: right;\n",
       "    }\n",
       "</style>\n",
       "<table border=\"1\" class=\"dataframe\">\n",
       "  <thead>\n",
       "    <tr style=\"text-align: right;\">\n",
       "      <th></th>\n",
       "      <th>Sleep Duration</th>\n",
       "      <th>Quality of Sleep</th>\n",
       "      <th>Stress Level</th>\n",
       "      <th>Physical Activity Level</th>\n",
       "      <th>Heart Rate</th>\n",
       "    </tr>\n",
       "    <tr>\n",
       "      <th>perfil_sono</th>\n",
       "      <th></th>\n",
       "      <th></th>\n",
       "      <th></th>\n",
       "      <th></th>\n",
       "      <th></th>\n",
       "    </tr>\n",
       "  </thead>\n",
       "  <tbody>\n",
       "    <tr>\n",
       "      <th>0</th>\n",
       "      <td>7.61</td>\n",
       "      <td>8.05</td>\n",
       "      <td>4.27</td>\n",
       "      <td>63.05</td>\n",
       "      <td>67.97</td>\n",
       "    </tr>\n",
       "    <tr>\n",
       "      <th>1</th>\n",
       "      <td>6.21</td>\n",
       "      <td>6.11</td>\n",
       "      <td>7.67</td>\n",
       "      <td>86.94</td>\n",
       "      <td>75.94</td>\n",
       "    </tr>\n",
       "    <tr>\n",
       "      <th>2</th>\n",
       "      <td>6.32</td>\n",
       "      <td>5.97</td>\n",
       "      <td>7.24</td>\n",
       "      <td>39.70</td>\n",
       "      <td>73.37</td>\n",
       "    </tr>\n",
       "  </tbody>\n",
       "</table>\n",
       "</div>"
      ],
      "text/plain": [
       "             Sleep Duration  Quality of Sleep  Stress Level  \\\n",
       "perfil_sono                                                   \n",
       "0                      7.61              8.05          4.27   \n",
       "1                      6.21              6.11          7.67   \n",
       "2                      6.32              5.97          7.24   \n",
       "\n",
       "             Physical Activity Level  Heart Rate  \n",
       "perfil_sono                                       \n",
       "0                              63.05       67.97  \n",
       "1                              86.94       75.94  \n",
       "2                              39.70       73.37  "
      ]
     },
     "execution_count": 100,
     "metadata": {},
     "output_type": "execute_result"
    }
   ],
   "source": [
    "df.groupby('perfil_sono')[['Sleep Duration', 'Quality of Sleep', 'Stress Level',\n",
    "                           'Physical Activity Level', 'Heart Rate']].mean().round(2)\n"
   ]
  },
  {
   "cell_type": "markdown",
   "id": "5f42561b-1d31-4961-8999-523f0a7afd22",
   "metadata": {},
   "source": [
    "### Regressão Linear (modelo explicativo)\n",
    "\n",
    "Para complementar a análise, foi construído um modelo de regressão linear para prever a qualidade do sono. O modelo obteve um R² de 0.90, indicando alta capacidade explicativa. A variável com maior impacto positivo foi a duração do sono, enquanto o nível de stress teve efeito negativo mais acentuado."
   ]
  },
  {
   "cell_type": "code",
   "execution_count": 98,
   "id": "20d3117c-9961-419c-8438-f7299dee484b",
   "metadata": {},
   "outputs": [
    {
     "name": "stdout",
     "output_type": "stream",
     "text": [
      "📊 Coeficientes do modelo:\n",
      "Sleep Duration             0.631257\n",
      "Stress Level              -0.317757\n",
      "Physical Activity Level    0.006473\n",
      "Heart Rate                -0.035957\n",
      "dtype: float64\n",
      "\n",
      "Intercepto: 6.66\n",
      "R² (R-squared): 0.902\n",
      "MSE (Erro quadrático médio): 0.147\n"
     ]
    }
   ],
   "source": [
    "import pandas as pd\n",
    "from sklearn.linear_model import LinearRegression\n",
    "from sklearn.model_selection import train_test_split\n",
    "from sklearn.metrics import r2_score, mean_squared_error\n",
    "\n",
    "# Definir as variáveis independentes e dependente\n",
    "X = df[['Sleep Duration', 'Stress Level', 'Physical Activity Level', 'Heart Rate']]\n",
    "y = df['Quality of Sleep']\n",
    "\n",
    "# Dividir em treino e teste\n",
    "X_train, X_test, y_train, y_test = train_test_split(X, y, test_size=0.2, random_state=42)\n",
    "\n",
    "# Treinar o modelo de regressão linear\n",
    "modelo = LinearRegression()\n",
    "modelo.fit(X_train, y_train)\n",
    "\n",
    "# Fazer previsões\n",
    "y_pred = modelo.predict(X_test)\n",
    "\n",
    "# Avaliar o modelo\n",
    "r2 = r2_score(y_test, y_pred)\n",
    "mse = mean_squared_error(y_test, y_pred)\n",
    "\n",
    "# Coeficientes\n",
    "coeficientes = pd.Series(modelo.coef_, index=X.columns)\n",
    "intercepto = modelo.intercept_\n",
    "\n",
    "print(\"📊 Coeficientes do modelo:\")\n",
    "print(coeficientes)\n",
    "print(f\"\\nIntercepto: {intercepto:.2f}\")\n",
    "print(f\"R² (R-squared): {r2:.3f}\")\n",
    "print(f\"MSE (Erro quadrático médio): {mse:.3f}\")\n"
   ]
  },
  {
   "cell_type": "markdown",
   "id": "17e7ee94-763d-493b-b78f-7c90f06fc587",
   "metadata": {},
   "source": [
    "### Cruzamento entre Perfil de Sono e Risco Profissional\n",
    "\n",
    "Por fim, realizou-se um cruzamento entre os perfis de sono identificados e os níveis de risco profissional estimados por LLM. Observou-se que profissões com risco “Alto” estão mais concentradas nos perfis com piores indicadores de sono, reforçando a hipótese de que a ocupação pode influenciar directamente o bem-estar e a qualidade do sono."
   ]
  },
  {
   "cell_type": "code",
   "execution_count": 101,
   "id": "34f8c32f-dfeb-4a12-81e1-98d18143f227",
   "metadata": {},
   "outputs": [
    {
     "data": {
      "text/html": [
       "<div>\n",
       "<style scoped>\n",
       "    .dataframe tbody tr th:only-of-type {\n",
       "        vertical-align: middle;\n",
       "    }\n",
       "\n",
       "    .dataframe tbody tr th {\n",
       "        vertical-align: top;\n",
       "    }\n",
       "\n",
       "    .dataframe thead th {\n",
       "        text-align: right;\n",
       "    }\n",
       "</style>\n",
       "<table border=\"1\" class=\"dataframe\">\n",
       "  <thead>\n",
       "    <tr style=\"text-align: right;\">\n",
       "      <th>Risco Profissional</th>\n",
       "      <th>**Moderado**</th>\n",
       "      <th>Alto</th>\n",
       "      <th>Alto.</th>\n",
       "      <th>Moderado</th>\n",
       "    </tr>\n",
       "    <tr>\n",
       "      <th>perfil_sono</th>\n",
       "      <th></th>\n",
       "      <th></th>\n",
       "      <th></th>\n",
       "      <th></th>\n",
       "    </tr>\n",
       "  </thead>\n",
       "  <tbody>\n",
       "    <tr>\n",
       "      <th>0</th>\n",
       "      <td>0.13</td>\n",
       "      <td>0.15</td>\n",
       "      <td>0.15</td>\n",
       "      <td>0.57</td>\n",
       "    </tr>\n",
       "    <tr>\n",
       "      <th>1</th>\n",
       "      <td>0.00</td>\n",
       "      <td>0.06</td>\n",
       "      <td>0.89</td>\n",
       "      <td>0.06</td>\n",
       "    </tr>\n",
       "    <tr>\n",
       "      <th>2</th>\n",
       "      <td>0.06</td>\n",
       "      <td>0.33</td>\n",
       "      <td>0.06</td>\n",
       "      <td>0.55</td>\n",
       "    </tr>\n",
       "  </tbody>\n",
       "</table>\n",
       "</div>"
      ],
      "text/plain": [
       "Risco Profissional  **Moderado**  Alto  Alto.  Moderado\n",
       "perfil_sono                                            \n",
       "0                           0.13  0.15   0.15      0.57\n",
       "1                           0.00  0.06   0.89      0.06\n",
       "2                           0.06  0.33   0.06      0.55"
      ]
     },
     "execution_count": 101,
     "metadata": {},
     "output_type": "execute_result"
    }
   ],
   "source": [
    "pd.crosstab(df['perfil_sono'], df['Risco Profissional'], normalize='index').round(2)"
   ]
  }
 ],
 "metadata": {
  "kernelspec": {
   "display_name": "Python 3 (ipykernel)",
   "language": "python",
   "name": "python3"
  },
  "language_info": {
   "codemirror_mode": {
    "name": "ipython",
    "version": 3
   },
   "file_extension": ".py",
   "mimetype": "text/x-python",
   "name": "python",
   "nbconvert_exporter": "python",
   "pygments_lexer": "ipython3",
   "version": "3.12.7"
  }
 },
 "nbformat": 4,
 "nbformat_minor": 5
}
